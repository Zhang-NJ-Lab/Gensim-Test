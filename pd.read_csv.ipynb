{
 "cells": [
  {
   "cell_type": "code",
   "execution_count": 23,
   "id": "fd1ea8d3-2ae9-49e1-ac94-710f2d7ba998",
   "metadata": {},
   "outputs": [
    {
     "name": "stderr",
     "output_type": "stream",
     "text": [
      "D:\\ProgramData\\Anaconda3\\envs\\py37\\lib\\site-packages\\pandas\\util\\_decorators.py:311: ParserWarning: Falling back to the 'python' engine because the 'c' engine does not support regex separators (separators > 1 char and different from '\\s+' are interpreted as regex); you can avoid this warning by specifying engine='python'.\n",
      "  return func(*args, **kwargs)\n",
      "Skipping line 52776: Expected 1 fields in line 52776, saw 2. Error could possibly be due to quotes being ignored when a multi-char delimiter is used.\n",
      "Skipping line 142678: Expected 1 fields in line 142678, saw 2. Error could possibly be due to quotes being ignored when a multi-char delimiter is used.\n",
      "Skipping line 143524: Expected 1 fields in line 143524, saw 2. Error could possibly be due to quotes being ignored when a multi-char delimiter is used.\n",
      "Skipping line 150026: Expected 1 fields in line 150026, saw 2. Error could possibly be due to quotes being ignored when a multi-char delimiter is used.\n",
      "Skipping line 152343: Expected 1 fields in line 152343, saw 2. Error could possibly be due to quotes being ignored when a multi-char delimiter is used.\n",
      "Skipping line 161769: Expected 1 fields in line 161769, saw 2. Error could possibly be due to quotes being ignored when a multi-char delimiter is used.\n",
      "Skipping line 179950: Expected 1 fields in line 179950, saw 2. Error could possibly be due to quotes being ignored when a multi-char delimiter is used.\n",
      "Skipping line 247375: Expected 1 fields in line 247375, saw 2. Error could possibly be due to quotes being ignored when a multi-char delimiter is used.\n",
      "Skipping line 253009: Expected 1 fields in line 253009, saw 2. Error could possibly be due to quotes being ignored when a multi-char delimiter is used.\n",
      "Skipping line 270300: Expected 1 fields in line 270300, saw 2. Error could possibly be due to quotes being ignored when a multi-char delimiter is used.\n",
      "Skipping line 301040: Expected 1 fields in line 301040, saw 2. Error could possibly be due to quotes being ignored when a multi-char delimiter is used.\n",
      "Skipping line 320864: Expected 1 fields in line 320864, saw 2. Error could possibly be due to quotes being ignored when a multi-char delimiter is used.\n",
      "Skipping line 333762: Expected 1 fields in line 333762, saw 2. Error could possibly be due to quotes being ignored when a multi-char delimiter is used.\n",
      "Skipping line 335843: Expected 1 fields in line 335843, saw 2. Error could possibly be due to quotes being ignored when a multi-char delimiter is used.\n",
      "Skipping line 337058: Expected 1 fields in line 337058, saw 3. Error could possibly be due to quotes being ignored when a multi-char delimiter is used.\n",
      "Skipping line 338420: Expected 1 fields in line 338420, saw 2. Error could possibly be due to quotes being ignored when a multi-char delimiter is used.\n",
      "Skipping line 338734: Expected 1 fields in line 338734, saw 2. Error could possibly be due to quotes being ignored when a multi-char delimiter is used.\n",
      "Skipping line 338855: Expected 1 fields in line 338855, saw 2. Error could possibly be due to quotes being ignored when a multi-char delimiter is used.\n",
      "Skipping line 341327: Expected 1 fields in line 341327, saw 2. Error could possibly be due to quotes being ignored when a multi-char delimiter is used.\n",
      "Skipping line 362665: Expected 1 fields in line 362665, saw 2. Error could possibly be due to quotes being ignored when a multi-char delimiter is used.\n",
      "Skipping line 394766: Expected 1 fields in line 394766, saw 2. Error could possibly be due to quotes being ignored when a multi-char delimiter is used.\n",
      "Skipping line 399314: Expected 1 fields in line 399314, saw 2. Error could possibly be due to quotes being ignored when a multi-char delimiter is used.\n"
     ]
    }
   ],
   "source": [
    "import pandas as pd\n",
    "data = pd.read_csv(r\"glove.6B.100d.txt\",sep = \"/n\", header=None, error_bad_lines=False)"
   ]
  },
  {
   "cell_type": "code",
   "execution_count": 24,
   "id": "3732e199-cc86-4acc-9380-590decb33f70",
   "metadata": {},
   "outputs": [
    {
     "data": {
      "text/html": [
       "<div>\n",
       "<style scoped>\n",
       "    .dataframe tbody tr th:only-of-type {\n",
       "        vertical-align: middle;\n",
       "    }\n",
       "\n",
       "    .dataframe tbody tr th {\n",
       "        vertical-align: top;\n",
       "    }\n",
       "\n",
       "    .dataframe thead th {\n",
       "        text-align: right;\n",
       "    }\n",
       "</style>\n",
       "<table border=\"1\" class=\"dataframe\">\n",
       "  <thead>\n",
       "    <tr style=\"text-align: right;\">\n",
       "      <th></th>\n",
       "      <th>0</th>\n",
       "    </tr>\n",
       "  </thead>\n",
       "  <tbody>\n",
       "    <tr>\n",
       "      <th>0</th>\n",
       "      <td>the -0.038194 -0.24487 0.72812 -0.39961 0.0831...</td>\n",
       "    </tr>\n",
       "    <tr>\n",
       "      <th>1</th>\n",
       "      <td>, -0.10767 0.11053 0.59812 -0.54361 0.67396 0....</td>\n",
       "    </tr>\n",
       "    <tr>\n",
       "      <th>2</th>\n",
       "      <td>. -0.33979 0.20941 0.46348 -0.64792 -0.38377 0...</td>\n",
       "    </tr>\n",
       "    <tr>\n",
       "      <th>3</th>\n",
       "      <td>of -0.1529 -0.24279 0.89837 0.16996 0.53516 0....</td>\n",
       "    </tr>\n",
       "    <tr>\n",
       "      <th>4</th>\n",
       "      <td>to -0.1897 0.050024 0.19084 -0.049184 -0.08973...</td>\n",
       "    </tr>\n",
       "    <tr>\n",
       "      <th>...</th>\n",
       "      <td>...</td>\n",
       "    </tr>\n",
       "    <tr>\n",
       "      <th>399973</th>\n",
       "      <td>chanty -0.15577 -0.049188 -0.064377 0.2236 -0....</td>\n",
       "    </tr>\n",
       "    <tr>\n",
       "      <th>399974</th>\n",
       "      <td>kronik -0.094426 0.14725 -0.15739 0.071966 -0....</td>\n",
       "    </tr>\n",
       "    <tr>\n",
       "      <th>399975</th>\n",
       "      <td>rolonda 0.36088 -0.16919 -0.32704 0.098332 -0....</td>\n",
       "    </tr>\n",
       "    <tr>\n",
       "      <th>399976</th>\n",
       "      <td>zsombor -0.10461 -0.5047 -0.49331 0.13516 -0.3...</td>\n",
       "    </tr>\n",
       "    <tr>\n",
       "      <th>399977</th>\n",
       "      <td>sandberger 0.28365 -0.6263 -0.44351 0.2177 -0....</td>\n",
       "    </tr>\n",
       "  </tbody>\n",
       "</table>\n",
       "<p>399978 rows × 1 columns</p>\n",
       "</div>"
      ],
      "text/plain": [
       "                                                        0\n",
       "0       the -0.038194 -0.24487 0.72812 -0.39961 0.0831...\n",
       "1       , -0.10767 0.11053 0.59812 -0.54361 0.67396 0....\n",
       "2       . -0.33979 0.20941 0.46348 -0.64792 -0.38377 0...\n",
       "3       of -0.1529 -0.24279 0.89837 0.16996 0.53516 0....\n",
       "4       to -0.1897 0.050024 0.19084 -0.049184 -0.08973...\n",
       "...                                                   ...\n",
       "399973  chanty -0.15577 -0.049188 -0.064377 0.2236 -0....\n",
       "399974  kronik -0.094426 0.14725 -0.15739 0.071966 -0....\n",
       "399975  rolonda 0.36088 -0.16919 -0.32704 0.098332 -0....\n",
       "399976  zsombor -0.10461 -0.5047 -0.49331 0.13516 -0.3...\n",
       "399977  sandberger 0.28365 -0.6263 -0.44351 0.2177 -0....\n",
       "\n",
       "[399978 rows x 1 columns]"
      ]
     },
     "execution_count": 24,
     "metadata": {},
     "output_type": "execute_result"
    }
   ],
   "source": [
    "data"
   ]
  },
  {
   "cell_type": "code",
   "execution_count": null,
   "id": "c1591d76-932a-44f0-bcad-00f772504940",
   "metadata": {},
   "outputs": [],
   "source": []
  }
 ],
 "metadata": {
  "kernelspec": {
   "display_name": "Python [conda env:py37]",
   "language": "python",
   "name": "conda-env-py37-py"
  },
  "language_info": {
   "codemirror_mode": {
    "name": "ipython",
    "version": 3
   },
   "file_extension": ".py",
   "mimetype": "text/x-python",
   "name": "python",
   "nbconvert_exporter": "python",
   "pygments_lexer": "ipython3",
   "version": "3.7.0"
  }
 },
 "nbformat": 4,
 "nbformat_minor": 5
}
